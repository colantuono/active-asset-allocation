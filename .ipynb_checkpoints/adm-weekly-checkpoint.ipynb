{
 "cells": [
  {
   "cell_type": "code",
   "execution_count": 35,
   "id": "f10ff382-696e-4543-ab18-30d362c36473",
   "metadata": {
    "tags": []
   },
   "outputs": [],
   "source": [
    "import pandas as pd\n",
    "import numpy as np\n",
    "from datetime import datetime, timedelta\n",
    "import matplotlib.pyplot as plt\n",
    "import yfinance as yf\n",
    "from pandas_datareader import data as pdr\n",
    "import warnings\n",
    "\n",
    "yf.pdr_override() \n",
    "plt.style.use(\"fivethirtyeight\")\n",
    "warnings.filterwarnings(\"ignore\")\n",
    "\n",
    "yesterday = datetime.now() - timedelta(1)\n",
    "yesterday = datetime.strftime(yesterday, '%Y-%m-%d')\n",
    "today = datetime.strftime(datetime.now(), '%Y-%m-%d')"
   ]
  },
  {
   "cell_type": "code",
   "execution_count": 37,
   "id": "e23c0818-e8c0-4ffe-a86c-50cbc0aa6162",
   "metadata": {
    "tags": []
   },
   "outputs": [],
   "source": [
    "## FUNCTIONS\n",
    "def getMonthlyData(period, ticker=\"SPY\", start=\"1994-01-01\", end=\"2022-10-01\"):\n",
    "    data = yf.download(ticker, start, end)\n",
    "    return data.resample(period).ohlc()['Close'].reset_index()\n",
    "    \n",
    "def funcMomentum(data):\n",
    "    data['shift1'] = data['close'].shift(1)\n",
    "    data['shift3'] = data['close'].shift(3)\n",
    "    data['shift6'] = data['close'].shift(6)\n",
    "    data[['Date', 'close','shift1','shift3','shift6']]\n",
    "    data = data.dropna(axis=0)\n",
    "    data[\"momentum\"] = (12*(data['close']/data['shift1']-1)) + (4*(data['close']/data['shift3']-1)) + (2*(data['close']/data['shift6']-1))\n",
    "    return data\n"
   ]
  },
  {
   "cell_type": "code",
   "execution_count": 41,
   "id": "64e2d2c7-22fd-48c7-a728-b4f9ff7957d1",
   "metadata": {},
   "outputs": [],
   "source": [
    "def acceleratingDualMomentum(stocks=[\"spy\",\"scz\",\"tip\"], period='M'):\n",
    "    ## Getting Data\n",
    "    namespace = globals()\n",
    "    for i in stocks:\n",
    "        namespace['%s_data' % str(i)] = getMonthlyData(period, i, end=yesterday)\n",
    "\n",
    "    ## Creating shift columns and calculating momentum\n",
    "    for i in stocks:\n",
    "        namespace['%s_data' % str(i)] = funcMomentum(namespace['%s_data' % str(i)])\n",
    "        \n",
    "   \n",
    "    ## series lenght ## hardcoded because ETF release date won't change.\n",
    "    date = scz_data['Date'] \n",
    "    spy_data2 = spy_data.copy()\n",
    "    spy_data2 = spy_data2.tail(len(date))\n",
    "    tip_data2 = tip_data.copy()\n",
    "    tip_data2 = tip_data.tail(len(date))\n",
    "\n",
    "\n",
    "    ## ETF Picking\n",
    "    etf = []\n",
    "    ret = []\n",
    "    for i in range(0, len(date)):\n",
    "        if ((spy_data2['momentum'].iloc[i] > scz_data['momentum'].iloc[i]) & (spy_data2['momentum'].iloc[i] > 0)):\n",
    "            etf.append('SPY')\n",
    "            ret.append(spy_data2['momentum'].iloc[i])\n",
    "        elif ((scz_data['momentum'].iloc[i] > spy_data2['momentum'].iloc[i]) & (scz_data['momentum'].iloc[i] > 0)):\n",
    "            etf.append('SCZ')\n",
    "            ret.append(scz_data['momentum'].iloc[i])\n",
    "        else:\n",
    "            etf.append('TIP')\n",
    "            ret.append(tip_data2['momentum'].iloc[i])\n",
    "            \n",
    "    ## Returns        \n",
    "    ret_data = {'date':date, 'etf':etf, 'ret':ret, 'Cumulative Returns':np.cumsum(ret)}\n",
    "    returns = pd.DataFrame(data=ret_data)\n",
    "    return returns"
   ]
  },
  {
   "cell_type": "code",
   "execution_count": 42,
   "id": "dbd7dc9f-d985-4430-8df9-10343c34665b",
   "metadata": {},
   "outputs": [
    {
     "name": "stdout",
     "output_type": "stream",
     "text": [
      "[*********************100%***********************]  1 of 1 completed\n",
      "[*********************100%***********************]  1 of 1 completed\n",
      "[*********************100%***********************]  1 of 1 completed\n",
      "[*********************100%***********************]  1 of 1 completed\n",
      "[*********************100%***********************]  1 of 1 completed\n",
      "[*********************100%***********************]  1 of 1 completed\n",
      "[*********************100%***********************]  1 of 1 completed\n",
      "[*********************100%***********************]  1 of 1 completed\n",
      "[*********************100%***********************]  1 of 1 completed\n"
     ]
    }
   ],
   "source": [
    "montlhy = acceleratingDualMomentum()\n",
    "weekly = acceleratingDualMomentum(period='W')\n",
    "daily = acceleratingDualMomentum(period='D')"
   ]
  },
  {
   "cell_type": "code",
   "execution_count": 52,
   "id": "d8652e06-bab7-47a3-b34d-16d4bb1049f1",
   "metadata": {},
   "outputs": [
    {
     "data": {
      "image/png": "[encoded data removed]",
      "text/plain": [
       "<Figure size 432x288 with 1 Axes>"
      ]
     },
     "metadata": {},
     "output_type": "display_data"
    }
   ],
   "source": [
    "plt.plot(montlhy['Cumulative Returns'].tail(len(montlhy)), color='r', label='m')\n",
    "plt.plot(weekly['Cumulative Returns'].tail(len(montlhy)), color='g', label='w')\n",
    "plt.plot(daily['Cumulative Returns'].tail(len(montlhy)), color='b', label='d')\n",
    "plt.legend()\n",
    "plt.show();"
   ]
  },
  {
   "cell_type": "code",
   "execution_count": null,
   "id": "dabbe4f5-1418-4021-a948-2a6dd44300a1",
   "metadata": {},
   "outputs": [],
   "source": [
    "stocks=[\"spy\",\"scz\",\"tip\"]\n",
    "## Getting Data\n",
    "namespace = globals()\n",
    "for i in stocks:\n",
    "    namespace['%s_data' % str(i)] = getMonthlyData(i, end=yesterday)\n",
    "\n",
    "## Creating shift columns and calculating momentum\n",
    "for i in stocks:\n",
    "    namespace['%s_data' % str(i)] = funcMomentum(namespace['%s_data' % str(i)])"
   ]
  },
  {
   "cell_type": "code",
   "execution_count": null,
   "id": "478f3856-8f4c-449a-8848-34e59b25deb5",
   "metadata": {},
   "outputs": [],
   "source": [
    "## series lenght ## hardcoded because ETF release date won't change.\n",
    "date = scz_data['Date'] \n",
    "spy_data2 = spy_data.copy()\n",
    "spy_data2 = spy_data2.tail(len(date))\n",
    "tip_data2 = tip_data.copy()\n",
    "tip_data2 = tip_data.tail(len(date))\n",
    "\n",
    "\n",
    "## ETF Picking\n",
    "etf = []\n",
    "ret = []\n",
    "for i in range(0, len(date)):\n",
    "    if ((spy_data2['momentum'].iloc[i] > scz_data['momentum'].iloc[i]) & (spy_data2['momentum'].iloc[i] > 0)):\n",
    "        etf.append('SPY')\n",
    "        ret.append(spy_data2['momentum'].iloc[i])\n",
    "    elif ((scz_data['momentum'].iloc[i] > spy_data2['momentum'].iloc[i]) & (scz_data['momentum'].iloc[i] > 0)):\n",
    "        etf.append('SCZ')\n",
    "        ret.append(scz_data['momentum'].iloc[i])\n",
    "    else:\n",
    "        etf.append('TIP')\n",
    "        ret.append(tip_data2['momentum'].iloc[i])"
   ]
  },
  {
   "cell_type": "code",
   "execution_count": null,
   "id": "6e8ab1bb-6cbe-4c91-95fc-c41322766f63",
   "metadata": {},
   "outputs": [],
   "source": [
    "## Returns        \n",
    "ret_data = {'date':date, 'etf':etf, 'ret':ret, 'Cumulative Returns':np.cumsum(ret)}\n",
    "returns = pd.DataFrame(data=ret_data)\n",
    "returns"
   ]
  }
 ],
 "metadata": {
  "kernelspec": {
   "display_name": "Python 3 (ipykernel)",
   "language": "python",
   "name": "python3"
  },
  "language_info": {
   "codemirror_mode": {
    "name": "ipython",
    "version": 3
   },
   "file_extension": ".py",
   "mimetype": "text/x-python",
   "name": "python",
   "nbconvert_exporter": "python",
   "pygments_lexer": "ipython3",
   "version": "3.9.12"
  }
 },
 "nbformat": 4,
 "nbformat_minor": 5
}
