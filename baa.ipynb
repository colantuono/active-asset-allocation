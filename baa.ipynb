{
 "cells": [
  {
   "cell_type": "code",
   "execution_count": 1,
   "metadata": {
    "tags": []
   },
   "outputs": [],
   "source": [
    "import pandas as pd\n",
    "import numpy as np\n",
    "from datetime import datetime, timedelta\n",
    "import matplotlib.pyplot as plt\n",
    "import yfinance as yf\n",
    "from pandas_datareader import data as pdr\n",
    "import warnings\n",
    "\n",
    "yf.pdr_override() \n",
    "plt.style.use(\"fivethirtyeight\")\n",
    "warnings.filterwarnings(\"ignore\")\n",
    "\n",
    "yesterday = datetime.now() - timedelta(1)\n",
    "yesterday = datetime.strftime(yesterday, '%Y-%m-%d')\n",
    "today = datetime.strftime(datetime.now(), '%Y-%m-%d')"
   ]
  },
  {
   "cell_type": "code",
   "execution_count": 2,
   "metadata": {
    "tags": []
   },
   "outputs": [],
   "source": [
    "## FUNCTIONS\n",
    "def getMonthlyData(ticker=\"SPY\", start=\"1994-01-01\", end=\"2022-10-01\"):\n",
    "    data = yf.download(ticker, start, end)\n",
    "    return data.resample('M').ohlc()['Close'].reset_index()\n",
    "    \n",
    "def func_13612WMomentum(data):\n",
    "    data['shift1'] = data['close'].shift(1)\n",
    "    data['shift3'] = data['close'].shift(3)\n",
    "    data['shift6'] = data['close'].shift(6)\n",
    "    data['shift12'] = data['close'].shift(12)\n",
    "    data[['Date', 'close','shift1','shift3','shift6','shift12']]\n",
    "    data = data.dropna(axis=0)\n",
    "    data[\"13612W_momentum\"] = (12*(data['close']/data['shift1']-1)) + (4*(data['close']/data['shift3']-1)) + (2*(data['close']/data['shift6']-1)) + (1*(data['close']/data['shift12']-1))\n",
    "    return data"
   ]
  },
  {
   "cell_type": "markdown",
   "metadata": {},
   "source": [
    "[Paper by Wouter J. Keller](https://papers.ssrn.com/sol3/papers.cfm?abstract_id=4166845)  \n",
    "[Allocate Smartly](https://allocatesmartly.com/bold-asset-allocation/)\n",
    "\n",
    "The strategy trades monthly. At the close on the last trading day of the month…\n",
    "\n",
    "1. Start with the canary universe: S&P 500 (represented by SPY), developed intl equities (EFA), emerging market equities (EEM) and US aggregate bonds (AGG).\n",
    "Calculate the “13612W” momentum of each asset. This is a multi-timeframe measure of momentum, calculated as follows:\n",
    "(12 * (p0 / p1 – 1)) + (4 * (p0 / p3 – 1)) + (2 * (p0 / p6 – 1)) + (p0 / p12 – 1)\n",
    "Where p0 = the price at today’s close, p1 = the price at the close of the previous month, etc.\n",
    "Note how this approach overweights more recent months. Doing the math, the most recent 1-month change (p0/p1 – 1) determines 40% of the momentum score, while the most distant month (p11/p12 – 1) determines just ~2%.\n",
    "2. If all canary assets have positive momentum, select from the offensive universe, otherwise select from the defensive universe.\n",
    "Note how cautious this criterion is. If even one canary asset is exhibiting negative momentum (which has happened about 60% of the time), we shift to the defensive universe. The inclusion of agg. bonds may seem odd, but we’ve covered bonds as a positive predictor of risk asset returns a number of times, including here and here.\n",
    "3. Select from within the appropriate universe (offensive or defensive) based on a slower relative momentum measurement. Calculate relative momentum as follows:  \n",
    "`p0 / average(p0…p12)`  \n",
    "I.e. today’s price divided by the average of the most recent 13 month-end prices.\n",
    "4. If selecting from the offensive universe, select the 6 assets (balanced version) or 1 asset (aggressive version) with the highest relative momentum.\n",
    "Warning: The aggressive version of the strategy is going all in on a single risk asset. That’s a dangerous approach. We suggest minimizing that risk by combining multiple unrelated strategies together in a combined portfolio (something our platform was built to tackle).\n",
    "5. If selecting from the defensive universe, select the 3 assets with the highest relative momentum. If the relative momentum of the asset is less than that of US T-Bills (represented by ETF: BIL), instead place that portion of the portfolio in cash.\n",
    "Here the strategy is using both relative and absolute momentum (aka “dual momentum”). More on this in a moment.\n",
    "6. Equally-weight to all assets selected at the close. Rebalance the portfolio even if there isn’t a change in signal. Hold all positions until the end of the following month.\n",
    "\n",
    "Asset universes:\n",
    "\n",
    "- Canary – Aggressive and Balanced: S&P 500 (represented by SPY), emerging market equities (EEM), developed Intl equities (EFA) and US aggregate bonds (AGG)\n",
    "- Offensive – Aggressive: Nasdaq 100 (QQQ), emerging market equities (EEM), developed intl equities (EFA) and US aggregate bonds (AGG)\n",
    "- Offensive – Balanced: S&P 500 (SPY), Nasdaq 100 (QQQ), US small caps (IWM), Europe equities (VGK), Japan equities (EWJ), emerging market equities (EEM), US real estate (VNQ), commodities (DBC), gold (GLD), long-term US Treasuries (TLT), US high-yield bonds (HYG) and US corporate bonds (LQD)\n",
    "- Defensive – Aggressive and Balanced: TIPS (TIP), commodities (DBC), US Treasury bills (BIL), intermediate-term US Treasuries (IEF), long-term US Treasuries (TLT), US corporate bonds (LQD) and US aggregate bonds (AGG)"
   ]
  },
  {
   "cell_type": "code",
   "execution_count": 3,
   "metadata": {},
   "outputs": [
    {
     "name": "stdout",
     "output_type": "stream",
     "text": [
      "[*********************100%***********************]  1 of 1 completed\n",
      "[*********************100%***********************]  1 of 1 completed\n",
      "[*********************100%***********************]  1 of 1 completed\n",
      "[*********************100%***********************]  1 of 1 completed\n"
     ]
    }
   ],
   "source": [
    "## Canary Universe\n",
    "# agg_data = getMonthlyData(\"AGG\", end=today)\n",
    "# spy_data = getMonthlyData(\"SPY\", end=today)\n",
    "# eem_data = getMonthlyData(\"EEM\", end=today)\n",
    "# efa_data = getMonthlyData(\"EFA\", end=today)\n",
    "\n",
    "canary = [\"agg\",\"spy\",\"eem\",\"efa\"]\n",
    "namespace = globals()\n",
    "for i in canary:\n",
    "    namespace['%s_data' % str(i)] = getMonthlyData(i, end=yesterday)\n",
    "\n",
    "## Creating shift columns and calculating 13612W_momentum\n",
    "agg_data = func_13612WMomentum(agg_data)\n",
    "spy_data = func_13612WMomentum(spy_data)\n",
    "eem_data = func_13612WMomentum(eem_data)\n",
    "efa_data = func_13612WMomentum(efa_data)"
   ]
  },
  {
   "cell_type": "code",
   "execution_count": 4,
   "metadata": {},
   "outputs": [
    {
     "data": {
      "text/plain": [
       "4"
      ]
     },
     "execution_count": 4,
     "metadata": {},
     "output_type": "execute_result"
    }
   ],
   "source": [
    "## Momentum\n",
    "# If all canary assets have positive momentum, select from the offensive universe, otherwise select from the defensive universe.\n",
    "Momentum = [agg_data['13612W_momentum'].iloc[-1], spy_data['13612W_momentum'].iloc[-1], eem_data['13612W_momentum'].iloc[-1], efa_data['13612W_momentum'].iloc[-1]]\n",
    "negative_momentum = []\n",
    "for i in Momentum:\n",
    "    if i <= 0:\n",
    "        negative_momentum.append(1)\n",
    "    else:\n",
    "        negative_momentum.append(0)\n",
    "        \n",
    "sum(negative_momentum)"
   ]
  },
  {
   "cell_type": "code",
   "execution_count": 5,
   "metadata": {
    "jupyter": {
     "source_hidden": true
    },
    "tags": []
   },
   "outputs": [],
   "source": [
    "if sum(negative_momentum) > 0:\n",
    "    # DEFENSIVE\n",
    "    pass\n",
    "else:\n",
    "    # OFFENSIVE\n",
    "    pass"
   ]
  },
  {
   "cell_type": "code",
   "execution_count": 6,
   "metadata": {
    "tags": []
   },
   "outputs": [],
   "source": [
    "def relativeMomentum(data, col):\n",
    "    for i in range(1,13):\n",
    "        data['shift' + str(i)] = data[col].shift(i)\n",
    "    data['relative_momentum'] = data['close'] / data.iloc[:, 1:len(data.columns)].mean(axis=1)\n",
    "        \n",
    "        \n",
    "# test_data = eem_data.copy() \n",
    "# test_data = test_data[['Date', 'close']]\n",
    "# relativeMomentum(test_data, 'close')\n",
    "# test_data['relative_momentum'].tail(1)"
   ]
  },
  {
   "cell_type": "code",
   "execution_count": 15,
   "metadata": {},
   "outputs": [
    {
     "name": "stdout",
     "output_type": "stream",
     "text": [
      "[*********************100%***********************]  1 of 1 completed\n",
      "[*********************100%***********************]  1 of 1 completed\n",
      "[*********************100%***********************]  1 of 1 completed\n",
      "[*********************100%***********************]  1 of 1 completed\n",
      "[*********************100%***********************]  1 of 1 completed\n",
      "[*********************100%***********************]  1 of 1 completed\n",
      "[*********************100%***********************]  1 of 1 completed\n",
      "[*********************100%***********************]  1 of 1 completed\n",
      "[*********************100%***********************]  1 of 1 completed\n",
      "[*********************100%***********************]  1 of 1 completed\n",
      "[*********************100%***********************]  1 of 1 completed\n",
      "[*********************100%***********************]  1 of 1 completed\n"
     ]
    }
   ],
   "source": [
    "offensive = ['spy','qqq','iwm','vgk','ewj','eem','vnq','bdc','gld','tlt','hyg','lqd']\n",
    "\n",
    "namespace = globals()\n",
    "for i in offensive:\n",
    "    namespace['%s' % str(i)] = getMonthlyData(i, end=today)\n",
    "\n",
    "for i in offensive:\n",
    "    relativeMomentum(namespace['%s' % str(i)], 'close')    \n",
    "\n",
    "ticker = []\n",
    "rets = []\n",
    "for i in offensive:\n",
    "    ticker.append(str(i))\n",
    "    rets.append(namespace['%s' % str(i)]['relative_momentum'].iloc[-1])\n",
    "\n",
    "off_max = {'Ticker':ticker, 'Returns':rets}\n",
    "off_max = pd.DataFrame(data=off_max)\n",
    "off_max.sort_values(by='Returns', inplace=True, ascending=False)"
   ]
  },
  {
   "cell_type": "code",
   "execution_count": 16,
   "metadata": {},
   "outputs": [
    {
     "data": {
      "text/html": [
       "<div>\n",
       "<style scoped>\n",
       "    .dataframe tbody tr th:only-of-type {\n",
       "        vertical-align: middle;\n",
       "    }\n",
       "\n",
       "    .dataframe tbody tr th {\n",
       "        vertical-align: top;\n",
       "    }\n",
       "\n",
       "    .dataframe thead th {\n",
       "        text-align: right;\n",
       "    }\n",
       "</style>\n",
       "<table border=\"1\" class=\"dataframe\">\n",
       "  <thead>\n",
       "    <tr style=\"text-align: right;\">\n",
       "      <th></th>\n",
       "      <th>Ticker</th>\n",
       "      <th>Returns</th>\n",
       "    </tr>\n",
       "  </thead>\n",
       "  <tbody>\n",
       "    <tr>\n",
       "      <th>7</th>\n",
       "      <td>bdc</td>\n",
       "      <td>1.055676</td>\n",
       "    </tr>\n",
       "    <tr>\n",
       "      <th>8</th>\n",
       "      <td>gld</td>\n",
       "      <td>0.949772</td>\n",
       "    </tr>\n",
       "    <tr>\n",
       "      <th>10</th>\n",
       "      <td>hyg</td>\n",
       "      <td>0.919041</td>\n",
       "    </tr>\n",
       "    <tr>\n",
       "      <th>2</th>\n",
       "      <td>iwm</td>\n",
       "      <td>0.888502</td>\n",
       "    </tr>\n",
       "    <tr>\n",
       "      <th>11</th>\n",
       "      <td>lqd</td>\n",
       "      <td>0.886139</td>\n",
       "    </tr>\n",
       "    <tr>\n",
       "      <th>0</th>\n",
       "      <td>spy</td>\n",
       "      <td>0.884228</td>\n",
       "    </tr>\n",
       "  </tbody>\n",
       "</table>\n",
       "</div>"
      ],
      "text/plain": [
       "   Ticker   Returns\n",
       "7     bdc  1.055676\n",
       "8     gld  0.949772\n",
       "10    hyg  0.919041\n",
       "2     iwm  0.888502\n",
       "11    lqd  0.886139\n",
       "0     spy  0.884228"
      ]
     },
     "execution_count": 16,
     "metadata": {},
     "output_type": "execute_result"
    }
   ],
   "source": [
    "off_max.head(6)"
   ]
  },
  {
   "cell_type": "code",
   "execution_count": null,
   "metadata": {},
   "outputs": [],
   "source": [
    "defensive = ['tip','dbc','bil','tlt','lqd','agg']\n",
    "namespace = globals()\n",
    "for i in canary:\n",
    "    namespace['%s_data' % str(i)] = getMonthlyData(i, end=today)"
   ]
  },
  {
   "cell_type": "code",
   "execution_count": null,
   "metadata": {},
   "outputs": [],
   "source": []
  },
  {
   "cell_type": "code",
   "execution_count": null,
   "metadata": {},
   "outputs": [],
   "source": []
  }
 ],
 "metadata": {
  "kernelspec": {
   "display_name": "Python 3 (ipykernel)",
   "language": "python",
   "name": "python3"
  },
  "language_info": {
   "codemirror_mode": {
    "name": "ipython",
    "version": 3
   },
   "file_extension": ".py",
   "mimetype": "text/x-python",
   "name": "python",
   "nbconvert_exporter": "python",
   "pygments_lexer": "ipython3",
   "version": "3.9.12"
  }
 },
 "nbformat": 4,
 "nbformat_minor": 4
}
