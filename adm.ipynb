{
 "cells": [
  {
   "cell_type": "code",
   "execution_count": 1,
   "metadata": {
    "tags": []
   },
   "outputs": [],
   "source": [
    "import pandas as pd\n",
    "import numpy as np\n",
    "from datetime import datetime, timedelta\n",
    "import matplotlib.pyplot as plt\n",
    "import yfinance as yf\n",
    "from pandas_datareader import data as pdr\n",
    "import warnings\n",
    "\n",
    "yf.pdr_override() \n",
    "plt.style.use(\"fivethirtyeight\")\n",
    "warnings.filterwarnings(\"ignore\")\n",
    "\n",
    "yesterday = datetime.now() - timedelta(1)\n",
    "yesterday = datetime.strftime(yesterday, '%Y-%m-%d')\n",
    "today = datetime.strftime(datetime.now(), '%Y-%m-%d')"
   ]
  },
  {
   "cell_type": "code",
   "execution_count": 2,
   "metadata": {
    "tags": []
   },
   "outputs": [],
   "source": [
    "## FUNCTIONS\n",
    "def getData(period=\"M\", ticker=\"SPY\", start=\"1994-01-01\", end=today):\n",
    "    data = yf.download(ticker, start, end)\n",
    "    return data.resample(period).ohlc()['Close'].reset_index()\n",
    "\n",
    "def funcMomentum(data):\n",
    "    data['shift1'] = data['close'].shift(1)\n",
    "    data['shift3'] = data['close'].shift(3)\n",
    "    data['shift6'] = data['close'].shift(6)\n",
    "    data[['Date', 'close','shift1','shift3','shift6']]\n",
    "    data = data.dropna(axis=0)\n",
    "    data[\"momentum\"] = (12*(data['close']/data['shift1']-1)) + (4*(data['close']/data['shift3']-1)) + (2*(data['close']/data['shift6']-1))\n",
    "    return data\n",
    "\n",
    "def acceleratingDualMomentum(period=\"M\", stocks=[\"spy\",\"scz\",\"tip\"]):\n",
    "    ## Getting Data\n",
    "    namespace = globals()\n",
    "    for i in stocks:\n",
    "        namespace['%s_data' % str(i)] = getData(period=period, ticker=i, end=yesterday)\n",
    "\n",
    "    ## Creating shift columns and calculating momentum\n",
    "    for i in stocks:\n",
    "        namespace['%s_data' % str(i)] = funcMomentum(namespace['%s_data' % str(i)])\n",
    "        \n",
    "    ## series lenght ## hardcoded because ETF release date won't change.\n",
    "    date = scz_data['Date'] \n",
    "    spy_data2 = spy_data.copy()\n",
    "    spy_data2 = spy_data2.tail(len(date))\n",
    "    tip_data2 = tip_data.copy()\n",
    "    tip_data2 = tip_data.tail(len(date))\n",
    "\n",
    "    ## ETF Picking\n",
    "    etf = []\n",
    "    ret = []\n",
    "    for i in range(0, len(date)):\n",
    "        if ((spy_data2['momentum'].iloc[i] > scz_data['momentum'].iloc[i]) & (spy_data2['momentum'].iloc[i] > 0)):\n",
    "            etf.append('SPY')\n",
    "            ret.append(spy_data2['momentum'].iloc[i])\n",
    "        elif ((scz_data['momentum'].iloc[i] > spy_data2['momentum'].iloc[i]) & (scz_data['momentum'].iloc[i] > 0)):\n",
    "            etf.append('SCZ')\n",
    "            ret.append(scz_data['momentum'].iloc[i])\n",
    "        else:\n",
    "            etf.append('TIP')\n",
    "            ret.append(tip_data2['momentum'].iloc[i])\n",
    "   \n",
    "    ## Returns        \n",
    "    ret_data = {'date':date, 'etf':etf, 'ret':ret, 'Cumulative Returns':np.cumsum(ret)}\n",
    "    returns = pd.DataFrame(data=ret_data)\n",
    "    return returns"
   ]
  },
  {
   "cell_type": "code",
   "execution_count": 3,
   "metadata": {},
   "outputs": [
    {
     "name": "stdout",
     "output_type": "stream",
     "text": [
      "[*********************100%***********************]  1 of 1 completed\n",
      "[*********************100%***********************]  1 of 1 completed\n",
      "[*********************100%***********************]  1 of 1 completed\n",
      "[*********************100%***********************]  1 of 1 completed\n",
      "[*********************100%***********************]  1 of 1 completed\n",
      "[*********************100%***********************]  1 of 1 completed\n",
      "[*********************100%***********************]  1 of 1 completed\n",
      "[*********************100%***********************]  1 of 1 completed\n",
      "[*********************100%***********************]  1 of 1 completed\n"
     ]
    }
   ],
   "source": [
    "monthly = acceleratingDualMomentum(period=\"M\")\n",
    "weekly = acceleratingDualMomentum(period=\"W\")\n",
    "daily = acceleratingDualMomentum(period=\"D\")"
   ]
  },
  {
   "cell_type": "code",
   "execution_count": 4,
   "metadata": {},
   "outputs": [
    {
     "name": "stdout",
     "output_type": "stream",
     "text": [
      "Monthly:  178    107.553509\n",
      "Name: Cumulative Returns, dtype: float64\n",
      "Weekly:  773    209.192803\n",
      "Name: Cumulative Returns, dtype: float64\n",
      "Daily:  5412    76.035301\n",
      "Name: Cumulative Returns, dtype: float64\n"
     ]
    }
   ],
   "source": [
    "print(\"Monthly: \", monthly['Cumulative Returns'].tail(1))\n",
    "print(\"Weekly: \", weekly['Cumulative Returns'].tail(1))\n",
    "print(\"Daily: \", daily['Cumulative Returns'].tail(1))"
   ]
  }
 ],
 "metadata": {
  "kernelspec": {
   "display_name": "Python 3",
   "language": "python",
   "name": "python3"
  },
  "language_info": {
   "codemirror_mode": {
    "name": "ipython",
    "version": 3
   },
   "file_extension": ".py",
   "mimetype": "text/x-python",
   "name": "python",
   "nbconvert_exporter": "python",
   "pygments_lexer": "ipython3",
   "version": "3.8.5"
  }
 },
 "nbformat": 4,
 "nbformat_minor": 5
}
