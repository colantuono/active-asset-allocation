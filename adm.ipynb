{
 "cells": [
  {
   "cell_type": "code",
   "execution_count": 1,
   "metadata": {
    "tags": []
   },
   "outputs": [],
   "source": [
    "import pandas as pd\n",
    "import numpy as np\n",
    "from datetime import datetime, timedelta\n",
    "import matplotlib.pyplot as plt\n",
    "import yfinance as yf\n",
    "from pandas_datareader import data as pdr\n",
    "import warnings\n",
    "\n",
    "yf.pdr_override() \n",
    "plt.style.use(\"fivethirtyeight\")\n",
    "warnings.filterwarnings(\"ignore\")\n",
    "\n",
    "yesterday = datetime.now() - timedelta(1)\n",
    "yesterday = datetime.strftime(yesterday, '%Y-%m-%d')\n",
    "today = datetime.strftime(datetime.now(), '%Y-%m-%d')"
   ]
  },
  {
   "cell_type": "code",
   "execution_count": 2,
   "metadata": {
    "tags": []
   },
   "outputs": [],
   "source": [
    "## FUNCTIONS\n",
    "def getData(ticker=\"SPY\", start=\"1994-01-01\", end=today, interval='1MO'):\n",
    "    data = yf.download(tickers=ticker, interval=interval, start=start, end=end)\n",
    "    data.dropna(axis=0, inplace=True)\n",
    "    return data.reset_index()\n",
    "\n",
    "def funcMomentum(data, momentum='simple'):\n",
    "    data['shift1'] = data['Adj Close'].shift(1)\n",
    "    data['shift3'] = data['Adj Close'].shift(3)\n",
    "    data['shift6'] = data['Adj Close'].shift(6)\n",
    "    data.drop(['Open','High','Low', 'Close', 'Volume'], axis=1, inplace=True)\n",
    "    data.dropna(axis=0, inplace=True)\n",
    "    composite = (12*(data['Adj Close']/data['shift1']-1)) + (4*(data['Adj Close']/data['shift3']-1)) + (2*(data['Adj Close']/data['shift6']-1))\n",
    "    simple = ((data['Adj Close']/data['shift6']-1))\n",
    "    if momentum == 'composite':\n",
    "        data['momentum'] = composite\n",
    "    else:\n",
    "        data['momentum'] = simple\n",
    "    return data\n",
    "\n",
    "def acceleratingDualMomentum(interval='1MO', stocks=[\"spy\",\"scz\",\"tip\"], momentum='simple'):\n",
    "    ## Getting Data\n",
    "    namespace = globals()\n",
    "    for i in stocks:\n",
    "        namespace['%s_data' % str(i)] = getData(ticker=i, end=today, interval=interval)\n",
    "\n",
    "    ## Creating shift columns and calculating momentum\n",
    "    for i in stocks:\n",
    "        namespace['%s_data' % str(i)] = funcMomentum(namespace['%s_data' % str(i)], momentum)\n",
    "        \n",
    "    ## series lenght ## hardcoded because ETF release date won't change.\n",
    "    date = scz_data['Date'] \n",
    "    spy_data2 = spy_data.copy()\n",
    "    spy_data2 = spy_data2.iloc[0:len(date)]\n",
    "    tip_data2 = tip_data.copy()\n",
    "    tip_data2 = tip_data.iloc[0:len(date)]\n",
    "\n",
    "    \n",
    "    ## ETF Picking\n",
    "    etf = []\n",
    "    ret = []\n",
    "    for i in range(0, len(date)):\n",
    "        if ((spy_data2['momentum'].iloc[i] > scz_data['momentum'].iloc[i]) & (spy_data2['momentum'].iloc[i] > 0)):\n",
    "            etf.append('SPY')\n",
    "            ret.append((spy_data2['Adj Close'].iloc[i] / spy_data2['shift1'].iloc[i] - 1)*100)\n",
    "        elif ((scz_data['momentum'].iloc[i] > spy_data2['momentum'].iloc[i]) & (scz_data['momentum'].iloc[i] > 0)):\n",
    "            etf.append('SCZ')\n",
    "            ret.append((scz_data['Adj Close'].iloc[i] / scz_data['shift1'].iloc[i] - 1)*100)\n",
    "        else:\n",
    "            etf.append('TIP')\n",
    "            ret.append((tip_data2['Adj Close'].iloc[i] / tip_data2['shift1'].iloc[i] - 1)*100)\n",
    "   \n",
    "    ## Returns        \n",
    "    ret_data = {'date':date, 'etf':etf, 'ret':ret, 'Cumulative Returns':np.cumsum(ret)}\n",
    "    returns = pd.DataFrame(data=ret_data)\n",
    "    return returns"
   ]
  },
  {
   "cell_type": "code",
   "execution_count": 3,
   "metadata": {},
   "outputs": [
    {
     "name": "stdout",
     "output_type": "stream",
     "text": [
      "[*********************100%***********************]  1 of 1 completed\n",
      "[*********************100%***********************]  1 of 1 completed\n",
      "[*********************100%***********************]  1 of 1 completed\n",
      "[*********************100%***********************]  1 of 1 completed\n",
      "[*********************100%***********************]  1 of 1 completed\n",
      "[*********************100%***********************]  1 of 1 completed\n"
     ]
    }
   ],
   "source": [
    "monthly = acceleratingDualMomentum(interval='1MO', momentum='simple')\n",
    "weekly = acceleratingDualMomentum(interval='1WK', momentum='simple')"
   ]
  },
  {
   "cell_type": "code",
   "execution_count": 4,
   "metadata": {},
   "outputs": [
    {
     "data": {
      "text/html": [
       "<div>\n",
       "<style scoped>\n",
       "    .dataframe tbody tr th:only-of-type {\n",
       "        vertical-align: middle;\n",
       "    }\n",
       "\n",
       "    .dataframe tbody tr th {\n",
       "        vertical-align: top;\n",
       "    }\n",
       "\n",
       "    .dataframe thead th {\n",
       "        text-align: right;\n",
       "    }\n",
       "</style>\n",
       "<table border=\"1\" class=\"dataframe\">\n",
       "  <thead>\n",
       "    <tr style=\"text-align: right;\">\n",
       "      <th></th>\n",
       "      <th>date</th>\n",
       "      <th>etf</th>\n",
       "      <th>ret</th>\n",
       "      <th>Cumulative Returns</th>\n",
       "    </tr>\n",
       "  </thead>\n",
       "  <tbody>\n",
       "    <tr>\n",
       "      <th>163</th>\n",
       "      <td>2021-08-01 00:00:00-04:00</td>\n",
       "      <td>SCZ</td>\n",
       "      <td>2.810194</td>\n",
       "      <td>288.949121</td>\n",
       "    </tr>\n",
       "    <tr>\n",
       "      <th>164</th>\n",
       "      <td>2021-09-01 00:00:00-04:00</td>\n",
       "      <td>SPY</td>\n",
       "      <td>3.381012</td>\n",
       "      <td>292.330133</td>\n",
       "    </tr>\n",
       "    <tr>\n",
       "      <th>165</th>\n",
       "      <td>2021-10-01 00:00:00-04:00</td>\n",
       "      <td>SPY</td>\n",
       "      <td>1.837462</td>\n",
       "      <td>294.167595</td>\n",
       "    </tr>\n",
       "    <tr>\n",
       "      <th>166</th>\n",
       "      <td>2021-11-01 00:00:00-04:00</td>\n",
       "      <td>TIP</td>\n",
       "      <td>-0.063210</td>\n",
       "      <td>294.104385</td>\n",
       "    </tr>\n",
       "    <tr>\n",
       "      <th>167</th>\n",
       "      <td>2021-12-01 00:00:00-05:00</td>\n",
       "      <td>TIP</td>\n",
       "      <td>0.544503</td>\n",
       "      <td>294.648888</td>\n",
       "    </tr>\n",
       "    <tr>\n",
       "      <th>168</th>\n",
       "      <td>2022-01-01 00:00:00-05:00</td>\n",
       "      <td>TIP</td>\n",
       "      <td>-0.273712</td>\n",
       "      <td>294.375177</td>\n",
       "    </tr>\n",
       "    <tr>\n",
       "      <th>169</th>\n",
       "      <td>2022-02-01 00:00:00-05:00</td>\n",
       "      <td>TIP</td>\n",
       "      <td>-1.052041</td>\n",
       "      <td>293.323135</td>\n",
       "    </tr>\n",
       "    <tr>\n",
       "      <th>170</th>\n",
       "      <td>2022-03-01 00:00:00-05:00</td>\n",
       "      <td>TIP</td>\n",
       "      <td>1.028377</td>\n",
       "      <td>294.351513</td>\n",
       "    </tr>\n",
       "    <tr>\n",
       "      <th>171</th>\n",
       "      <td>2022-04-01 00:00:00-04:00</td>\n",
       "      <td>TIP</td>\n",
       "      <td>-0.389208</td>\n",
       "      <td>293.962305</td>\n",
       "    </tr>\n",
       "    <tr>\n",
       "      <th>172</th>\n",
       "      <td>2022-05-01 00:00:00-04:00</td>\n",
       "      <td>TIP</td>\n",
       "      <td>0.143238</td>\n",
       "      <td>294.105543</td>\n",
       "    </tr>\n",
       "    <tr>\n",
       "      <th>173</th>\n",
       "      <td>2022-06-01 00:00:00-04:00</td>\n",
       "      <td>TIP</td>\n",
       "      <td>0.793371</td>\n",
       "      <td>294.898914</td>\n",
       "    </tr>\n",
       "    <tr>\n",
       "      <th>174</th>\n",
       "      <td>2022-07-01 00:00:00-04:00</td>\n",
       "      <td>TIP</td>\n",
       "      <td>-0.615706</td>\n",
       "      <td>294.283208</td>\n",
       "    </tr>\n",
       "    <tr>\n",
       "      <th>175</th>\n",
       "      <td>2022-08-01 00:00:00-04:00</td>\n",
       "      <td>TIP</td>\n",
       "      <td>0.607753</td>\n",
       "      <td>294.890961</td>\n",
       "    </tr>\n",
       "    <tr>\n",
       "      <th>176</th>\n",
       "      <td>2022-09-01 00:00:00-04:00</td>\n",
       "      <td>TIP</td>\n",
       "      <td>-0.896780</td>\n",
       "      <td>293.994181</td>\n",
       "    </tr>\n",
       "    <tr>\n",
       "      <th>177</th>\n",
       "      <td>2022-10-01 00:00:00-04:00</td>\n",
       "      <td>TIP</td>\n",
       "      <td>-1.269089</td>\n",
       "      <td>292.725092</td>\n",
       "    </tr>\n",
       "  </tbody>\n",
       "</table>\n",
       "</div>"
      ],
      "text/plain": [
       "                         date  etf       ret  Cumulative Returns\n",
       "163 2021-08-01 00:00:00-04:00  SCZ  2.810194          288.949121\n",
       "164 2021-09-01 00:00:00-04:00  SPY  3.381012          292.330133\n",
       "165 2021-10-01 00:00:00-04:00  SPY  1.837462          294.167595\n",
       "166 2021-11-01 00:00:00-04:00  TIP -0.063210          294.104385\n",
       "167 2021-12-01 00:00:00-05:00  TIP  0.544503          294.648888\n",
       "168 2022-01-01 00:00:00-05:00  TIP -0.273712          294.375177\n",
       "169 2022-02-01 00:00:00-05:00  TIP -1.052041          293.323135\n",
       "170 2022-03-01 00:00:00-05:00  TIP  1.028377          294.351513\n",
       "171 2022-04-01 00:00:00-04:00  TIP -0.389208          293.962305\n",
       "172 2022-05-01 00:00:00-04:00  TIP  0.143238          294.105543\n",
       "173 2022-06-01 00:00:00-04:00  TIP  0.793371          294.898914\n",
       "174 2022-07-01 00:00:00-04:00  TIP -0.615706          294.283208\n",
       "175 2022-08-01 00:00:00-04:00  TIP  0.607753          294.890961\n",
       "176 2022-09-01 00:00:00-04:00  TIP -0.896780          293.994181\n",
       "177 2022-10-01 00:00:00-04:00  TIP -1.269089          292.725092"
      ]
     },
     "execution_count": 4,
     "metadata": {},
     "output_type": "execute_result"
    }
   ],
   "source": [
    "# print(len(monthly[monthly['ret']<0]))\n",
    "# monthly[monthly['ret']<0]\n",
    "monthly.tail(15)"
   ]
  },
  {
   "cell_type": "code",
   "execution_count": 5,
   "metadata": {},
   "outputs": [
    {
     "name": "stdout",
     "output_type": "stream",
     "text": [
      "Monthly:  177    292.725092\n",
      "Name: Cumulative Returns, dtype: float64\n",
      "Weekly:  774    569.768295\n",
      "Name: Cumulative Returns, dtype: float64\n"
     ]
    }
   ],
   "source": [
    "print(\"Monthly: \", monthly['Cumulative Returns'].tail(1))\n",
    "print(\"Weekly: \", weekly['Cumulative Returns'].tail(1))"
   ]
  },
  {
   "cell_type": "code",
   "execution_count": 6,
   "metadata": {},
   "outputs": [
    {
     "data": {
      "image/png": "[encoded data removed]",
      "text/plain": [
       "<Figure size 1440x576 with 1 Axes>"
      ]
     },
     "metadata": {},
     "output_type": "display_data"
    }
   ],
   "source": [
    "plt.figure(figsize=(20,8))\n",
    "# plt.plot(weekly['date'], weekly['Cumulative Returns']*100);\n",
    "# plt.plot(weekly['date'], weekly['ret']);\n",
    "plt.plot(monthly['date'], monthly['Cumulative Returns']);\n",
    "# plt.plot(monthly['date'], monthly['ret']);"
   ]
  }
 ],
 "metadata": {
  "kernelspec": {
   "display_name": "Python 3",
   "language": "python",
   "name": "python3"
  },
  "language_info": {
   "codemirror_mode": {
    "name": "ipython",
    "version": 3
   },
   "file_extension": ".py",
   "mimetype": "text/x-python",
   "name": "python",
   "nbconvert_exporter": "python",
   "pygments_lexer": "ipython3",
   "version": "3.8.5"
  }
 },
 "nbformat": 4,
 "nbformat_minor": 5
}
