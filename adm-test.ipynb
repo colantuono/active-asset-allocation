{
 "cells": [
  {
   "cell_type": "code",
   "execution_count": 1,
   "metadata": {
    "tags": []
   },
   "outputs": [
    {
     "data": {
      "text/plain": [
       "'2022-10-16 Sunday 20:44:45'"
      ]
     },
     "execution_count": 1,
     "metadata": {},
     "output_type": "execute_result"
    }
   ],
   "source": [
    "import pandas as pd\n",
    "import numpy as np\n",
    "from datetime import datetime, timedelta\n",
    "import matplotlib.pyplot as plt\n",
    "import warnings\n",
    "\n",
    "import yfinance as yf\n",
    "from pandas_datareader import data as pdr\n",
    "# import empyrical\n",
    "# import pyfolio as pf\n",
    "\n",
    "warnings.filterwarnings(\"ignore\")\n",
    "yf.pdr_override() \n",
    "plt.style.use(\"fivethirtyeight\")\n",
    "\n",
    "yesterday = datetime.now() - timedelta(1)\n",
    "yesterday = datetime.strftime(yesterday, '%Y-%m-%d')\n",
    "today = datetime.strftime(datetime.now(), '%Y-%m-%d')\n",
    "datetime.strftime(datetime.now(), '%Y-%m-%d %A %H:%M:%S')"
   ]
  },
  {
   "cell_type": "code",
   "execution_count": 2,
   "metadata": {
    "tags": []
   },
   "outputs": [],
   "source": [
    "## FUNCTIONS\n",
    "def getData(ticker=\"SPY\", start=\"1994-01-01\", end=today, interval='1MO'):\n",
    "    data = yf.download(tickers=ticker, interval=interval, start=start, end=end)\n",
    "    data.dropna(axis=0, inplace=True)\n",
    "    return data.reset_index()\n",
    "\n",
    "def funcMomentum(data, momentum='simple'):\n",
    "    data['shift1'] = data['Adj Close'].shift(1)\n",
    "    data['shift3'] = data['Adj Close'].shift(3)\n",
    "    data['shift6'] = data['Adj Close'].shift(6)\n",
    "    data.drop(['Open','High','Low', 'Close', 'Volume'], axis=1, inplace=True)\n",
    "    data.dropna(axis=0, inplace=True)\n",
    "    composite = (12*(data['Adj Close']/data['shift1']-1)) + (4*(data['Adj Close']/data['shift3']-1)) + (2*(data['Adj Close']/data['shift6']-1))\n",
    "    simple = ((data['Adj Close']/data['shift6']-1))\n",
    "    if momentum == 'composite':\n",
    "        data['momentum'] = composite # composite weighted  1,3,6 periods return formula\n",
    "    else:\n",
    "        data['momentum'] = simple # simple 6 periods return formula\n",
    "    return data\n",
    "\n",
    "def acceleratingDualMomentum(interval='1MO', stocks=[\"spy\",\"scz\",\"tip\"], momentum='simple'):\n",
    "    ## Getting Data\n",
    "    namespace = globals()\n",
    "    for i in stocks:\n",
    "        namespace['%s_data' % str(i)] = getData(ticker=i, end=today, interval=interval)\n",
    "\n",
    "    ## Creating shift columns and calculating momentum\n",
    "    for i in stocks:\n",
    "        namespace['%s_data' % str(i)] = funcMomentum(namespace['%s_data' % str(i)], momentum)\n",
    "        \n",
    "    ## series lenght ## hardcoded because ETF release date won't change.\n",
    "    date = scz_data['Date'] \n",
    "    spy_data2 = spy_data.copy()\n",
    "    spy_data2 = spy_data2.iloc[-len(date):]\n",
    "    tip_data2 = tip_data.copy()\n",
    "    tip_data2 = tip_data.iloc[-len(date):]\n",
    "    \n",
    "    ## ETF Picking\n",
    "    etf = []\n",
    "    ret = [1]\n",
    "    close = []\n",
    "    for i in range(0, len(date)):\n",
    "        if ((spy_data2['momentum'].iloc[i] > scz_data['momentum'].iloc[i]) & (spy_data2['momentum'].iloc[i] > 0)):\n",
    "            etf.append('SPY')\n",
    "            ret.append((spy_data2['Adj Close'].iloc[i] / spy_data2['shift1'].iloc[i] - 1))\n",
    "            close.append(spy_data2['Adj Close'].iloc[i])\n",
    "        elif ((scz_data['momentum'].iloc[i] > spy_data2['momentum'].iloc[i]) & (scz_data['momentum'].iloc[i] > 0)):\n",
    "            etf.append('SCZ')\n",
    "            ret.append((scz_data['Adj Close'].iloc[i] / scz_data['shift1'].iloc[i] - 1))\n",
    "            close.append(scz_data['Adj Close'].iloc[i])\n",
    "        else:\n",
    "            etf.append('TIP')\n",
    "            ret.append((tip_data2['Adj Close'].iloc[i] / tip_data2['shift1'].iloc[i] - 1))\n",
    "            close.append(tip_data2['Adj Close'].iloc[i])\n",
    "   \n",
    "    ## Returns   \n",
    "    cumulative_rets = list(np.cumsum(ret))\n",
    "    ret.pop(0)\n",
    "    cumulative_rets.pop(0)\n",
    "    ret_data = {'date':date, 'etf':etf, 'close':close, 'ret':ret, 'Cumulative Returns':cumulative_rets}\n",
    "    returns = pd.DataFrame(data=ret_data)\n",
    "    return returns\n",
    "\n",
    "def sharpeRatio(mean, interest, stdev):\n",
    "    return (mean - interest) / stdev\n",
    "\n",
    "def CAGR(last_value, first_value, years):\n",
    "    return ((last_value/first_value)**(1/years)-1)"
   ]
  },
  {
   "cell_type": "code",
   "execution_count": 3,
   "metadata": {},
   "outputs": [
    {
     "name": "stdout",
     "output_type": "stream",
     "text": [
      "[*********************100%***********************]  1 of 1 completed\n",
      "[*********************100%***********************]  1 of 1 completed\n",
      "[*********************100%***********************]  1 of 1 completed\n"
     ]
    }
   ],
   "source": [
    "monthly = acceleratingDualMomentum(interval='1MO', momentum='composite')\n",
    "# daily = acceleratingDualMomentum(interval='1D', momentum='simple')#'composite'"
   ]
  },
  {
   "cell_type": "code",
   "execution_count": 4,
   "metadata": {
    "scrolled": true
   },
   "outputs": [
    {
     "data": {
      "text/html": [
       "<div>\n",
       "<style scoped>\n",
       "    .dataframe tbody tr th:only-of-type {\n",
       "        vertical-align: middle;\n",
       "    }\n",
       "\n",
       "    .dataframe tbody tr th {\n",
       "        vertical-align: top;\n",
       "    }\n",
       "\n",
       "    .dataframe thead th {\n",
       "        text-align: right;\n",
       "    }\n",
       "</style>\n",
       "<table border=\"1\" class=\"dataframe\">\n",
       "  <thead>\n",
       "    <tr style=\"text-align: right;\">\n",
       "      <th></th>\n",
       "      <th>date</th>\n",
       "      <th>etf</th>\n",
       "      <th>close</th>\n",
       "      <th>ret</th>\n",
       "      <th>Cumulative Returns</th>\n",
       "    </tr>\n",
       "  </thead>\n",
       "  <tbody>\n",
       "    <tr>\n",
       "      <th>164</th>\n",
       "      <td>2021-09-01 00:00:00-04:00</td>\n",
       "      <td>TIP</td>\n",
       "      <td>118.182175</td>\n",
       "      <td>-0.008763</td>\n",
       "      <td>5.402672</td>\n",
       "    </tr>\n",
       "    <tr>\n",
       "      <th>165</th>\n",
       "      <td>2021-10-01 00:00:00-04:00</td>\n",
       "      <td>SPY</td>\n",
       "      <td>452.404205</td>\n",
       "      <td>0.073592</td>\n",
       "      <td>5.476264</td>\n",
       "    </tr>\n",
       "    <tr>\n",
       "      <th>166</th>\n",
       "      <td>2021-11-01 00:00:00-04:00</td>\n",
       "      <td>SPY</td>\n",
       "      <td>448.769196</td>\n",
       "      <td>-0.008035</td>\n",
       "      <td>5.468229</td>\n",
       "    </tr>\n",
       "    <tr>\n",
       "      <th>167</th>\n",
       "      <td>2021-12-01 00:00:00-05:00</td>\n",
       "      <td>SPY</td>\n",
       "      <td>467.879974</td>\n",
       "      <td>0.042585</td>\n",
       "      <td>5.510814</td>\n",
       "    </tr>\n",
       "    <tr>\n",
       "      <th>168</th>\n",
       "      <td>2022-01-01 00:00:00-05:00</td>\n",
       "      <td>TIP</td>\n",
       "      <td>119.346550</td>\n",
       "      <td>-0.013141</td>\n",
       "      <td>5.497673</td>\n",
       "    </tr>\n",
       "    <tr>\n",
       "      <th>169</th>\n",
       "      <td>2022-02-01 00:00:00-05:00</td>\n",
       "      <td>TIP</td>\n",
       "      <td>119.950172</td>\n",
       "      <td>0.005058</td>\n",
       "      <td>5.502731</td>\n",
       "    </tr>\n",
       "    <tr>\n",
       "      <th>170</th>\n",
       "      <td>2022-03-01 00:00:00-05:00</td>\n",
       "      <td>SPY</td>\n",
       "      <td>446.470703</td>\n",
       "      <td>0.034377</td>\n",
       "      <td>5.537108</td>\n",
       "    </tr>\n",
       "    <tr>\n",
       "      <th>171</th>\n",
       "      <td>2022-04-01 00:00:00-04:00</td>\n",
       "      <td>TIP</td>\n",
       "      <td>114.791718</td>\n",
       "      <td>-0.026344</td>\n",
       "      <td>5.510764</td>\n",
       "    </tr>\n",
       "    <tr>\n",
       "      <th>172</th>\n",
       "      <td>2022-05-01 00:00:00-04:00</td>\n",
       "      <td>TIP</td>\n",
       "      <td>113.499260</td>\n",
       "      <td>-0.011259</td>\n",
       "      <td>5.499505</td>\n",
       "    </tr>\n",
       "    <tr>\n",
       "      <th>173</th>\n",
       "      <td>2022-06-01 00:00:00-04:00</td>\n",
       "      <td>TIP</td>\n",
       "      <td>109.548088</td>\n",
       "      <td>-0.034812</td>\n",
       "      <td>5.464693</td>\n",
       "    </tr>\n",
       "    <tr>\n",
       "      <th>174</th>\n",
       "      <td>2022-07-01 00:00:00-04:00</td>\n",
       "      <td>SPY</td>\n",
       "      <td>410.304535</td>\n",
       "      <td>0.096805</td>\n",
       "      <td>5.561498</td>\n",
       "    </tr>\n",
       "    <tr>\n",
       "      <th>175</th>\n",
       "      <td>2022-08-01 00:00:00-04:00</td>\n",
       "      <td>TIP</td>\n",
       "      <td>111.374207</td>\n",
       "      <td>-0.031736</td>\n",
       "      <td>5.529761</td>\n",
       "    </tr>\n",
       "    <tr>\n",
       "      <th>176</th>\n",
       "      <td>2022-09-01 00:00:00-04:00</td>\n",
       "      <td>TIP</td>\n",
       "      <td>103.575745</td>\n",
       "      <td>-0.070020</td>\n",
       "      <td>5.459741</td>\n",
       "    </tr>\n",
       "    <tr>\n",
       "      <th>177</th>\n",
       "      <td>2022-10-01 00:00:00-04:00</td>\n",
       "      <td>TIP</td>\n",
       "      <td>105.690002</td>\n",
       "      <td>0.020413</td>\n",
       "      <td>5.480154</td>\n",
       "    </tr>\n",
       "    <tr>\n",
       "      <th>178</th>\n",
       "      <td>2022-10-14 00:00:00-04:00</td>\n",
       "      <td>TIP</td>\n",
       "      <td>105.690002</td>\n",
       "      <td>0.000000</td>\n",
       "      <td>5.480154</td>\n",
       "    </tr>\n",
       "  </tbody>\n",
       "</table>\n",
       "</div>"
      ],
      "text/plain": [
       "                         date  etf       close       ret  Cumulative Returns\n",
       "164 2021-09-01 00:00:00-04:00  TIP  118.182175 -0.008763            5.402672\n",
       "165 2021-10-01 00:00:00-04:00  SPY  452.404205  0.073592            5.476264\n",
       "166 2021-11-01 00:00:00-04:00  SPY  448.769196 -0.008035            5.468229\n",
       "167 2021-12-01 00:00:00-05:00  SPY  467.879974  0.042585            5.510814\n",
       "168 2022-01-01 00:00:00-05:00  TIP  119.346550 -0.013141            5.497673\n",
       "169 2022-02-01 00:00:00-05:00  TIP  119.950172  0.005058            5.502731\n",
       "170 2022-03-01 00:00:00-05:00  SPY  446.470703  0.034377            5.537108\n",
       "171 2022-04-01 00:00:00-04:00  TIP  114.791718 -0.026344            5.510764\n",
       "172 2022-05-01 00:00:00-04:00  TIP  113.499260 -0.011259            5.499505\n",
       "173 2022-06-01 00:00:00-04:00  TIP  109.548088 -0.034812            5.464693\n",
       "174 2022-07-01 00:00:00-04:00  SPY  410.304535  0.096805            5.561498\n",
       "175 2022-08-01 00:00:00-04:00  TIP  111.374207 -0.031736            5.529761\n",
       "176 2022-09-01 00:00:00-04:00  TIP  103.575745 -0.070020            5.459741\n",
       "177 2022-10-01 00:00:00-04:00  TIP  105.690002  0.020413            5.480154\n",
       "178 2022-10-14 00:00:00-04:00  TIP  105.690002  0.000000            5.480154"
      ]
     },
     "execution_count": 4,
     "metadata": {},
     "output_type": "execute_result"
    }
   ],
   "source": [
    "# print(len(monthly[monthly['ret']<0]))\n",
    "# monthly[monthly['ret']<0] \n",
    "monthly.tail(15)"
   ]
  },
  {
   "cell_type": "code",
   "execution_count": 5,
   "metadata": {},
   "outputs": [
    {
     "data": {
      "image/png": "[encoded data removed]",
      "text/plain": [
       "<Figure size 1440x576 with 1 Axes>"
      ]
     },
     "metadata": {},
     "output_type": "display_data"
    }
   ],
   "source": [
    "plt.figure(figsize=(20,8))\n",
    "# plt.plot(weekly['date'], weekly['Cumulative Returns']*100);\n",
    "# plt.plot(weekly['date'], weekly['ret']);\n",
    "plt.plot(monthly['date'], monthly['Cumulative Returns']);\n",
    "# plt.plot(monthly['date'], monthly['ret']);"
   ]
  },
  {
   "cell_type": "code",
   "execution_count": 6,
   "metadata": {},
   "outputs": [
    {
     "data": {
      "image/png": "[encoded data removed]",
      "text/plain": [
       "<Figure size 1440x576 with 1 Axes>"
      ]
     },
     "metadata": {},
     "output_type": "display_data"
    }
   ],
   "source": [
    "plt.figure(figsize=(20,8))\n",
    "plt.vlines(0, 0, 15, color='r', linestyle='dashed', linewidth=1)\n",
    "plt.hist(monthly['ret'], bins=int(len(monthly['ret'])/2));"
   ]
  },
  {
   "cell_type": "code",
   "execution_count": 7,
   "metadata": {
    "scrolled": true
   },
   "outputs": [
    {
     "name": "stdout",
     "output_type": "stream",
     "text": [
      "Total return:  448.0153679884613\n",
      "Annual return:  12.749250142660928\n",
      "Annual std:  3.7853840372144565\n"
     ]
    }
   ],
   "source": [
    "anos_monthly = len(monthly['ret'])*30/365\n",
    "anos_weekly = len(monthly['ret'])*7/365\n",
    "primeiro = monthly['Cumulative Returns'].iloc[0]\n",
    "ultimo = monthly['Cumulative Returns'].iloc[-1]\n",
    "\n",
    "total_return = (ultimo - primeiro / primeiro)\n",
    "annualized_returns = CAGR(ultimo, primeiro, anos_monthly)\n",
    "annual_std = monthly['ret'].std()\n",
    "\n",
    "print('Total return: ',total_return*100)\n",
    "print('Annual return: ', annualized_returns*100) \n",
    "print('Annual std: ', annual_std*100,)"
   ]
  },
  {
   "cell_type": "code",
   "execution_count": 8,
   "metadata": {},
   "outputs": [
    {
     "data": {
      "text/plain": [
       "2.5411556788144085"
      ]
     },
     "execution_count": 8,
     "metadata": {},
     "output_type": "execute_result"
    }
   ],
   "source": [
    "interest_rate_source = 'https://fred.stlouisfed.org/data/TB3MS.txt'\n",
    "interest_rate = float(pd.read_csv(interest_rate_source, sep=' ', skiprows=11).iloc[-1:]['Unnamed: 3'] / 100)\n",
    "    \n",
    "sharpeRatio(annualized_returns, interest_rate, annual_std)"
   ]
  },
  {
   "cell_type": "markdown",
   "metadata": {},
   "source": [
    "#### Ideas  \n",
    "- add Column with initial balance to returns (add an arg to acceleratingDualMomentum(), called initial_balance)  \n",
    "\n",
    "#### to-do  \n",
    "- sortino ratio\n",
    "- max drawdown\n",
    "- period drawdown\n",
    "\n",
    "#### done  \n",
    "- annualized return\n",
    "- sharpe ration"
   ]
  },
  {
   "cell_type": "markdown",
   "metadata": {},
   "source": [
    "[Annualized Return 1](https://12ft.io/proxy?q=https%3A%2F%2Fpython.plainenglish.io%2Fcalculating-annualized-expected-stock-returns-using-python-aaba430ca8a9)  \n",
    "[get fred data](https://12ft.io/proxy?q=https%3A%2F%2Fmedium.com%2Fswlh%2Fpandas-datareader-federal-reserve-economic-data-fred-a360c5795013)  \n",
    "[calculate sharpe ratio](https://12ft.io/proxy?q=https%3A%2F%2Ftowardsdatascience.com%2Fcalculating-sharpe-ratio-with-python-755dcb346805)  \n",
    "[Sharpe Ratio - CFI](https://corporatefinanceinstitute.com/resources/knowledge/finance/sharpe-ratio-definition-formula/)  \n",
    "[CAGR - Investopedia](https://www.investopedia.com/terms/a/annualized-total-return.asp#:~:text=An%20annualized%20total%20return%20is,the%20annual%20return%20was%20compounded.)  \n",
    "[CAGR - Felipe Rego](https://feliperego.github.io/blog/2016/08/10/CAGR-Function-In-Python)  \n",
    "[]()  "
   ]
  },
  {
   "cell_type": "code",
   "execution_count": 9,
   "metadata": {},
   "outputs": [],
   "source": [
    "# returns = monthly['ret']\n",
    "# returns.index = monthly['date']\n",
    "# empyrical.sharpe_ratio(returns)\n",
    "# pf.create_simple_tear_sheet(returns, benchmark_rets=None)"
   ]
  }
 ],
 "metadata": {
  "kernelspec": {
   "display_name": "Python 3",
   "language": "python",
   "name": "python3"
  },
  "language_info": {
   "codemirror_mode": {
    "name": "ipython",
    "version": 3
   },
   "file_extension": ".py",
   "mimetype": "text/x-python",
   "name": "python",
   "nbconvert_exporter": "python",
   "pygments_lexer": "ipython3",
   "version": "3.8.5"
  }
 },
 "nbformat": 4,
 "nbformat_minor": 5
}
