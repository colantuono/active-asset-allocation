{
 "cells": [
  {
   "cell_type": "code",
   "execution_count": 13,
   "metadata": {
    "tags": []
   },
   "outputs": [],
   "source": [
    "import pandas as pd\n",
    "import numpy as np\n",
    "from datetime import datetime, timedelta\n",
    "import matplotlib.pyplot as plt\n",
    "import warnings\n",
    "\n",
    "import yfinance as yf\n",
    "from pandas_datareader import data as pdr\n",
    "# import empyrical\n",
    "# import pyfolio as pf\n",
    "\n",
    "warnings.filterwarnings(\"ignore\")\n",
    "yf.pdr_override() \n",
    "plt.style.use(\"fivethirtyeight\")\n",
    "\n",
    "yesterday = datetime.now() - timedelta(1)\n",
    "yesterday = datetime.strftime(yesterday, '%Y-%m-%d')\n",
    "today = datetime.strftime(datetime.now(), '%Y-%m-%d')"
   ]
  },
  {
   "cell_type": "code",
   "execution_count": 14,
   "metadata": {
    "tags": []
   },
   "outputs": [],
   "source": [
    "## FUNCTIONS\n",
    "def getData(ticker=\"SPY\", start=\"1994-01-01\", end=today, interval='1MO'):\n",
    "    data = yf.download(tickers=ticker, interval=interval, start=start, end=end)\n",
    "    data.dropna(axis=0, inplace=True)\n",
    "    return data.reset_index()\n",
    "\n",
    "def funcMomentum(data, momentum='simple'):\n",
    "    data['shift1'] = data['Adj Close'].shift(1)\n",
    "    data['shift3'] = data['Adj Close'].shift(3)\n",
    "    data['shift6'] = data['Adj Close'].shift(6)\n",
    "    data.drop(['Open','High','Low', 'Close', 'Volume'], axis=1, inplace=True)\n",
    "    data.dropna(axis=0, inplace=True)\n",
    "    composite = (12*(data['Adj Close']/data['shift1']-1)) + (4*(data['Adj Close']/data['shift3']-1)) + (2*(data['Adj Close']/data['shift6']-1))\n",
    "    simple = ((data['Adj Close']/data['shift6']-1))\n",
    "    if momentum == 'composite':\n",
    "        data['momentum'] = composite\n",
    "    else:\n",
    "        data['momentum'] = simple\n",
    "    return data\n",
    "\n",
    "def acceleratingDualMomentum(interval='1MO', stocks=[\"spy\",\"scz\",\"tip\"], momentum='simple'):\n",
    "    ## Getting Data\n",
    "    namespace = globals()\n",
    "    for i in stocks:\n",
    "        namespace['%s_data' % str(i)] = getData(ticker=i, end=today, interval=interval)\n",
    "\n",
    "    ## Creating shift columns and calculating momentum\n",
    "    for i in stocks:\n",
    "        namespace['%s_data' % str(i)] = funcMomentum(namespace['%s_data' % str(i)], momentum)\n",
    "        \n",
    "    ## series lenght ## hardcoded because ETF release date won't change.\n",
    "    date = scz_data['Date'] \n",
    "    spy_data2 = spy_data.copy()\n",
    "    spy_data2 = spy_data2.iloc[-len(date):]\n",
    "    tip_data2 = tip_data.copy()\n",
    "    tip_data2 = tip_data.iloc[-len(date):]\n",
    "    \n",
    "    ## ETF Picking\n",
    "    etf = []\n",
    "    ret = []\n",
    "    close = []\n",
    "    for i in range(0, len(date)):\n",
    "        if ((spy_data2['momentum'].iloc[i] > scz_data['momentum'].iloc[i]) & (spy_data2['momentum'].iloc[i] > 0)):\n",
    "            etf.append('SPY')\n",
    "            ret.append((spy_data2['Adj Close'].iloc[i] / spy_data2['shift1'].iloc[i] - 1))\n",
    "            close.append(spy_data2['Adj Close'].iloc[i])\n",
    "        elif ((scz_data['momentum'].iloc[i] > spy_data2['momentum'].iloc[i]) & (scz_data['momentum'].iloc[i] > 0)):\n",
    "            etf.append('SCZ')\n",
    "            ret.append((scz_data['Adj Close'].iloc[i] / scz_data['shift1'].iloc[i] - 1))\n",
    "            close.append(scz_data['Adj Close'].iloc[i])\n",
    "        else:\n",
    "            etf.append('TIP')\n",
    "            ret.append((tip_data2['Adj Close'].iloc[i] / tip_data2['shift1'].iloc[i] - 1))\n",
    "            close.append(tip_data2['Adj Close'].iloc[i])\n",
    "   \n",
    "    ## Returns        \n",
    "    ret_data = {'date':date, 'etf':etf, 'close':close, 'ret':ret, 'Cumulative Returns':np.cumsum(ret)}\n",
    "    returns = pd.DataFrame(data=ret_data)\n",
    "    return returns"
   ]
  },
  {
   "cell_type": "code",
   "execution_count": 15,
   "metadata": {},
   "outputs": [
    {
     "name": "stdout",
     "output_type": "stream",
     "text": [
      "[*********************100%***********************]  1 of 1 completed\n",
      "[*********************100%***********************]  1 of 1 completed\n",
      "[*********************100%***********************]  1 of 1 completed\n"
     ]
    }
   ],
   "source": [
    "monthly = acceleratingDualMomentum(interval='1MO', momentum='simple')\n",
    "# daily = acceleratingDualMomentum(interval='1D', momentum='simple')#'composite'"
   ]
  },
  {
   "cell_type": "code",
   "execution_count": 16,
   "metadata": {
    "scrolled": true
   },
   "outputs": [
    {
     "data": {
      "text/html": [
       "<div>\n",
       "<style scoped>\n",
       "    .dataframe tbody tr th:only-of-type {\n",
       "        vertical-align: middle;\n",
       "    }\n",
       "\n",
       "    .dataframe tbody tr th {\n",
       "        vertical-align: top;\n",
       "    }\n",
       "\n",
       "    .dataframe thead th {\n",
       "        text-align: right;\n",
       "    }\n",
       "</style>\n",
       "<table border=\"1\" class=\"dataframe\">\n",
       "  <thead>\n",
       "    <tr style=\"text-align: right;\">\n",
       "      <th></th>\n",
       "      <th>date</th>\n",
       "      <th>etf</th>\n",
       "      <th>close</th>\n",
       "      <th>ret</th>\n",
       "      <th>Cumulative Returns</th>\n",
       "    </tr>\n",
       "  </thead>\n",
       "  <tbody>\n",
       "    <tr>\n",
       "      <th>163</th>\n",
       "      <td>2021-08-01 00:00:00-04:00</td>\n",
       "      <td>SPY</td>\n",
       "      <td>443.408264</td>\n",
       "      <td>0.029760</td>\n",
       "      <td>2.850071</td>\n",
       "    </tr>\n",
       "    <tr>\n",
       "      <th>164</th>\n",
       "      <td>2021-09-01 00:00:00-04:00</td>\n",
       "      <td>SPY</td>\n",
       "      <td>421.393036</td>\n",
       "      <td>-0.049650</td>\n",
       "      <td>2.800421</td>\n",
       "    </tr>\n",
       "    <tr>\n",
       "      <th>165</th>\n",
       "      <td>2021-10-01 00:00:00-04:00</td>\n",
       "      <td>SPY</td>\n",
       "      <td>452.404175</td>\n",
       "      <td>0.073592</td>\n",
       "      <td>2.874013</td>\n",
       "    </tr>\n",
       "    <tr>\n",
       "      <th>166</th>\n",
       "      <td>2021-11-01 00:00:00-04:00</td>\n",
       "      <td>SPY</td>\n",
       "      <td>448.769196</td>\n",
       "      <td>-0.008035</td>\n",
       "      <td>2.865978</td>\n",
       "    </tr>\n",
       "    <tr>\n",
       "      <th>167</th>\n",
       "      <td>2021-12-01 00:00:00-05:00</td>\n",
       "      <td>SPY</td>\n",
       "      <td>467.880005</td>\n",
       "      <td>0.042585</td>\n",
       "      <td>2.908563</td>\n",
       "    </tr>\n",
       "    <tr>\n",
       "      <th>168</th>\n",
       "      <td>2022-01-01 00:00:00-05:00</td>\n",
       "      <td>SPY</td>\n",
       "      <td>444.760468</td>\n",
       "      <td>-0.049413</td>\n",
       "      <td>2.859150</td>\n",
       "    </tr>\n",
       "    <tr>\n",
       "      <th>169</th>\n",
       "      <td>2022-02-01 00:00:00-05:00</td>\n",
       "      <td>TIP</td>\n",
       "      <td>119.950165</td>\n",
       "      <td>0.005058</td>\n",
       "      <td>2.864208</td>\n",
       "    </tr>\n",
       "    <tr>\n",
       "      <th>170</th>\n",
       "      <td>2022-03-01 00:00:00-05:00</td>\n",
       "      <td>SPY</td>\n",
       "      <td>446.470734</td>\n",
       "      <td>0.034377</td>\n",
       "      <td>2.898585</td>\n",
       "    </tr>\n",
       "    <tr>\n",
       "      <th>171</th>\n",
       "      <td>2022-04-01 00:00:00-04:00</td>\n",
       "      <td>TIP</td>\n",
       "      <td>114.791725</td>\n",
       "      <td>-0.026344</td>\n",
       "      <td>2.872241</td>\n",
       "    </tr>\n",
       "    <tr>\n",
       "      <th>172</th>\n",
       "      <td>2022-05-01 00:00:00-04:00</td>\n",
       "      <td>TIP</td>\n",
       "      <td>113.499260</td>\n",
       "      <td>-0.011259</td>\n",
       "      <td>2.860982</td>\n",
       "    </tr>\n",
       "    <tr>\n",
       "      <th>173</th>\n",
       "      <td>2022-06-01 00:00:00-04:00</td>\n",
       "      <td>TIP</td>\n",
       "      <td>109.548088</td>\n",
       "      <td>-0.034812</td>\n",
       "      <td>2.826170</td>\n",
       "    </tr>\n",
       "    <tr>\n",
       "      <th>174</th>\n",
       "      <td>2022-07-01 00:00:00-04:00</td>\n",
       "      <td>TIP</td>\n",
       "      <td>115.024666</td>\n",
       "      <td>0.049992</td>\n",
       "      <td>2.876162</td>\n",
       "    </tr>\n",
       "    <tr>\n",
       "      <th>175</th>\n",
       "      <td>2022-08-01 00:00:00-04:00</td>\n",
       "      <td>TIP</td>\n",
       "      <td>111.374207</td>\n",
       "      <td>-0.031736</td>\n",
       "      <td>2.844426</td>\n",
       "    </tr>\n",
       "    <tr>\n",
       "      <th>176</th>\n",
       "      <td>2022-09-01 00:00:00-04:00</td>\n",
       "      <td>TIP</td>\n",
       "      <td>103.575745</td>\n",
       "      <td>-0.070020</td>\n",
       "      <td>2.774405</td>\n",
       "    </tr>\n",
       "    <tr>\n",
       "      <th>177</th>\n",
       "      <td>2022-10-01 00:00:00-04:00</td>\n",
       "      <td>TIP</td>\n",
       "      <td>105.720001</td>\n",
       "      <td>0.020702</td>\n",
       "      <td>2.795108</td>\n",
       "    </tr>\n",
       "  </tbody>\n",
       "</table>\n",
       "</div>"
      ],
      "text/plain": [
       "                         date  etf       close       ret  Cumulative Returns\n",
       "163 2021-08-01 00:00:00-04:00  SPY  443.408264  0.029760            2.850071\n",
       "164 2021-09-01 00:00:00-04:00  SPY  421.393036 -0.049650            2.800421\n",
       "165 2021-10-01 00:00:00-04:00  SPY  452.404175  0.073592            2.874013\n",
       "166 2021-11-01 00:00:00-04:00  SPY  448.769196 -0.008035            2.865978\n",
       "167 2021-12-01 00:00:00-05:00  SPY  467.880005  0.042585            2.908563\n",
       "168 2022-01-01 00:00:00-05:00  SPY  444.760468 -0.049413            2.859150\n",
       "169 2022-02-01 00:00:00-05:00  TIP  119.950165  0.005058            2.864208\n",
       "170 2022-03-01 00:00:00-05:00  SPY  446.470734  0.034377            2.898585\n",
       "171 2022-04-01 00:00:00-04:00  TIP  114.791725 -0.026344            2.872241\n",
       "172 2022-05-01 00:00:00-04:00  TIP  113.499260 -0.011259            2.860982\n",
       "173 2022-06-01 00:00:00-04:00  TIP  109.548088 -0.034812            2.826170\n",
       "174 2022-07-01 00:00:00-04:00  TIP  115.024666  0.049992            2.876162\n",
       "175 2022-08-01 00:00:00-04:00  TIP  111.374207 -0.031736            2.844426\n",
       "176 2022-09-01 00:00:00-04:00  TIP  103.575745 -0.070020            2.774405\n",
       "177 2022-10-01 00:00:00-04:00  TIP  105.720001  0.020702            2.795108"
      ]
     },
     "execution_count": 16,
     "metadata": {},
     "output_type": "execute_result"
    }
   ],
   "source": [
    "# print(len(monthly[monthly['ret']<0]))\n",
    "# monthly[monthly['ret']<0] \n",
    "monthly.tail(15)"
   ]
  },
  {
   "cell_type": "code",
   "execution_count": 17,
   "metadata": {},
   "outputs": [
    {
     "name": "stdout",
     "output_type": "stream",
     "text": [
      "Investing:  100  would get you:  279.51076251243546\n",
      "Investing:  1000  would get you:  2795.107625124355\n",
      "Investing:  10000  would get you:  27951.076251243547\n"
     ]
    }
   ],
   "source": [
    "for i in [100,1000,10000]:\n",
    "    print('Investing: ',i ,' would get you: ', i * monthly['Cumulative Returns'].iloc[-1])"
   ]
  },
  {
   "cell_type": "code",
   "execution_count": 18,
   "metadata": {},
   "outputs": [
    {
     "data": {
      "image/png": "[encoded data removed]",
      "text/plain": [
       "<Figure size 1440x576 with 1 Axes>"
      ]
     },
     "metadata": {},
     "output_type": "display_data"
    }
   ],
   "source": [
    "plt.figure(figsize=(20,8))\n",
    "# plt.plot(weekly['date'], weekly['Cumulative Returns']*100);\n",
    "# plt.plot(weekly['date'], weekly['ret']);\n",
    "plt.plot(monthly['date'], monthly['Cumulative Returns']);\n",
    "# plt.plot(monthly['date'], monthly['ret']);"
   ]
  },
  {
   "cell_type": "code",
   "execution_count": 19,
   "metadata": {},
   "outputs": [
    {
     "data": {
      "image/png": "[encoded data removed]",
      "text/plain": [
       "<Figure size 1440x576 with 1 Axes>"
      ]
     },
     "metadata": {},
     "output_type": "display_data"
    }
   ],
   "source": [
    "plt.figure(figsize=(20,8))\n",
    "plt.hist(monthly['ret'], bins=70);"
   ]
  },
  {
   "cell_type": "markdown",
   "metadata": {},
   "source": [
    "### to-do\n",
    "- annualized return\n",
    "- sharpe/sortino ration\n",
    "- max drawdown\n",
    "- period drawdown"
   ]
  },
  {
   "cell_type": "markdown",
   "metadata": {},
   "source": [
    "[Annualized Return 1](https://12ft.io/proxy?q=https%3A%2F%2Fpython.plainenglish.io%2Fcalculating-annualized-expected-stock-returns-using-python-aaba430ca8a9)  \n",
    "[get fred data](https://12ft.io/proxy?q=https%3A%2F%2Fmedium.com%2Fswlh%2Fpandas-datareader-federal-reserve-economic-data-fred-a360c5795013)  \n",
    "[calculate sharpe ratio](https://12ft.io/proxy?q=https%3A%2F%2Ftowardsdatascience.com%2Fcalculating-sharpe-ratio-with-python-755dcb346805)"
   ]
  },
  {
   "cell_type": "code",
   "execution_count": 47,
   "metadata": {},
   "outputs": [
    {
     "name": "stdout",
     "output_type": "stream",
     "text": [
      "date\n",
      "2008-12-31 00:00:00-05:00   -13.755639\n",
      "2009-12-31 00:00:00-05:00    -0.790208\n",
      "2010-12-31 00:00:00-05:00     5.585614\n",
      "2011-12-31 00:00:00-05:00    -0.970282\n",
      "2012-12-31 00:00:00-05:00     9.789357\n",
      "2013-12-31 00:00:00-05:00    -0.397377\n",
      "2014-12-31 00:00:00-05:00    -1.461467\n",
      "2015-12-31 00:00:00-05:00     1.882818\n",
      "2016-12-31 00:00:00-05:00    -1.618872\n",
      "2017-12-31 00:00:00-05:00    -0.032293\n",
      "2018-12-31 00:00:00-05:00    -0.780585\n",
      "2019-12-31 00:00:00-05:00     6.914735\n",
      "2020-12-31 00:00:00-05:00     1.608359\n",
      "2021-12-31 00:00:00-05:00    -0.320333\n",
      "2022-12-31 00:00:00-05:00    -0.513859\n",
      "Freq: A-DEC, Name: ret, dtype: float64\n",
      "annual return:  5.1399678471661066 \n",
      " annual std:  5.181627754514318\n"
     ]
    }
   ],
   "source": [
    "rets = monthly.copy()\n",
    "rets = rets[['date','ret']]\n",
    "rets.set_index('date', inplace=True)\n",
    "rets\n",
    "\n",
    "annualized_return = (1 + rets['ret'].pct_change()).resample('Y').prod() - 1\n",
    "annual_return = annualized_return.sum()\n",
    "annual_std = annualized_return.std()\n",
    "print(annualized_return)\n",
    "print('annual return: ', annual_return, '\\n', 'annual std: ', annual_std,)"
   ]
  },
  {
   "cell_type": "code",
   "execution_count": 39,
   "metadata": {},
   "outputs": [
    {
     "data": {
      "text/plain": [
       "0.9859195004340774"
      ]
     },
     "execution_count": 39,
     "metadata": {},
     "output_type": "execute_result"
    }
   ],
   "source": [
    "\n",
    "\n",
    "source = 'https://fred.stlouisfed.org/data/TB3MS.txt'\n",
    "interest_rate = float(pd.read_csv(source, sep=' ', skiprows=11).iloc[-1:]['Unnamed: 3'] / 100)\n",
    "\n",
    "def sharpe(mean, interest, stdev):\n",
    "    return (mean - interest) / stdev\n",
    "    \n",
    "sharpe(annual_return, interest_rate, annual_std)"
   ]
  },
  {
   "cell_type": "code",
   "execution_count": null,
   "metadata": {},
   "outputs": [],
   "source": []
  },
  {
   "cell_type": "code",
   "execution_count": null,
   "metadata": {},
   "outputs": [],
   "source": []
  },
  {
   "cell_type": "code",
   "execution_count": null,
   "metadata": {},
   "outputs": [],
   "source": []
  },
  {
   "cell_type": "code",
   "execution_count": null,
   "metadata": {},
   "outputs": [],
   "source": []
  },
  {
   "cell_type": "code",
   "execution_count": null,
   "metadata": {
    "scrolled": true
   },
   "outputs": [],
   "source": []
  },
  {
   "cell_type": "code",
   "execution_count": null,
   "metadata": {},
   "outputs": [],
   "source": [
    "# returns = monthly['ret']\n",
    "# returns.index = monthly['date']\n",
    "# empyrical.sharpe_ratio(returns)\n",
    "# pf.create_simple_tear_sheet(returns, benchmark_rets=None)"
   ]
  }
 ],
 "metadata": {
  "kernelspec": {
   "display_name": "Python 3",
   "language": "python",
   "name": "python3"
  },
  "language_info": {
   "codemirror_mode": {
    "name": "ipython",
    "version": 3
   },
   "file_extension": ".py",
   "mimetype": "text/x-python",
   "name": "python",
   "nbconvert_exporter": "python",
   "pygments_lexer": "ipython3",
   "version": "3.8.5"
  }
 },
 "nbformat": 4,
 "nbformat_minor": 5
}
